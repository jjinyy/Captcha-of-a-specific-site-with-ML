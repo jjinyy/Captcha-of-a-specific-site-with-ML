{
 "cells": [
  {
   "cell_type": "code",
   "execution_count": 25,
   "metadata": {},
   "outputs": [
    {
     "name": "stdout",
     "output_type": "stream",
     "text": [
      "796622\n"
     ]
    }
   ],
   "source": [
    "import cv2\n",
    "import numpy as np\n",
    "import sys\n",
    "import glob\n",
    "from PIL import Image\n",
    "\n",
    "FNAME = 'digits.npz'\n",
    "\n",
    "def resize20(pimg):\n",
    "    img = cv2.imread(pimg)\n",
    "    gray = cv2.cvtColor(img, cv2.COLOR_BGR2GRAY)\n",
    "    grayResize = cv2.resize(gray,(15,25))\n",
    "    ret, thresh = cv2.threshold(grayResize, 125, 255,cv2.THRESH_BINARY_INV)\n",
    "    cv2.imshow('num',thresh)\n",
    "    \n",
    "    return thresh.reshape(-1,375).astype(np.float32)\n",
    "\n",
    "def loadTrainData(fname):\n",
    "    with np.load(fname) as data:\n",
    "        train = data['train']\n",
    "        train_labels = data['train_labels']\n",
    "\n",
    "    return train, train_labels\n",
    "\n",
    "\n",
    "def checkDigit(test, train, train_labels):\n",
    "    knn = cv2.ml.KNearest_create()\n",
    "    knn.train(train, cv2.ml.ROW_SAMPLE, train_labels)\n",
    "    ret, result, neighbours, dist = knn.findNearest(test, k=5)\n",
    "    \n",
    "    return result\n",
    "\n",
    "if __name__ == '__main__':\n",
    "    train, train_labels = loadTrainData(FNAME)\n",
    "    saveNpz = False\n",
    "    \n",
    "    output = ''\n",
    "    for fname in glob.glob('C:/Users/KHJ/PycharmProjects/RPA/images_arrange/*.jpg'):\n",
    "        test = resize20(fname)\n",
    "        result = checkDigit(test, train, train_labels)\n",
    "        output = output + str(result)[2:3]\n",
    "    \n",
    "    print (output)\n",
    "        \n",
    "    cv2.destroyAllWindows()\n"
   ]
  },
  {
   "cell_type": "code",
   "execution_count": null,
   "metadata": {},
   "outputs": [],
   "source": []
  }
 ],
 "metadata": {
  "kernelspec": {
   "display_name": "Python 3",
   "language": "python",
   "name": "python3"
  },
  "language_info": {
   "codemirror_mode": {
    "name": "ipython",
    "version": 3
   },
   "file_extension": ".py",
   "mimetype": "text/x-python",
   "name": "python",
   "nbconvert_exporter": "python",
   "pygments_lexer": "ipython3",
   "version": "3.7.1"
  }
 },
 "nbformat": 4,
 "nbformat_minor": 2
}
