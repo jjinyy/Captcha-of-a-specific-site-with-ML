{
 "cells": [
  {
   "cell_type": "code",
   "execution_count": 2,
   "metadata": {},
   "outputs": [],
   "source": [
    "import cv2\n",
    "import numpy as np\n",
    "import glob\n",
    "from PIL import Image\n",
    "\n",
    "\n",
    "def calculateSize(files):\n",
    "    size_x=[]\n",
    "    size_y=[]\n",
    "    \n",
    "    for file in files:\n",
    "        image = Image.open(file)\n",
    "        size_x.append(image.size[0])\n",
    "        size_y.append(image.size[1])\n",
    "    \n",
    "    x_min = min(size_x)\n",
    "    y_min = min(size_y)\n",
    "    total_x_size = x_min * len(files)\n",
    "    total_y_size = y_min * len(files)\n",
    "    #print(total_x_size)\n",
    "    #print(total_y_size)\n",
    "    return x_min, y_min, total_x_size\n",
    "\n",
    "def resizeToMin(files, x_min, y_min, x_size):\n",
    "    file_list = []\n",
    "    \n",
    "    for file in files:\n",
    "        image=Image.open(file)\n",
    "        resized_file = image.resize((x_min, y_min))\n",
    "        file_list.append(resized_file)\n",
    "        \n",
    "    return file_list, x_size, x_min, y_min\n",
    "\n",
    "def imageMerge(file_list, x_size, x_min, y_min):\n",
    "    new_image = Image.new(\"RGB\", (x_size, y_min), (256,256,256))\n",
    "    \n",
    "    for index in range(len(file_list)):\n",
    "        area = ((index*x_min), 0, (x_min*(index+1)), y_min)\n",
    "        new_image.paste(file_list[index], area)\n",
    "    \n",
    "    new_image.save(\"C:/Users/KHJ/PycharmProjects/RPA/images/result.png\",\"PNG\")\n",
    "    #new_image.show()\n",
    "\n",
    "target_dir = \"C:/Users/KHJ/PycharmProjects/RPA/images/\"\n",
    "files=glob.glob(target_dir + \"*.jpg\")\n",
    "#files=cv2.imread()\n",
    "#img = cv2.imread('images/35.jpg', cv2.IMREAD_GRAYSCALE)\n",
    "#img.shape\n",
    "#calculateSize(files)\n",
    "\n",
    "x_min, y_min, x_size = calculateSize(files)\n",
    "\n",
    "file_list, x_size, x_min, y_min = resizeToMin(files, x_min, y_min, x_size)\n",
    "\n",
    "imageMerge(file_list, x_size, x_min, y_min)\n"
   ]
  },
  {
   "cell_type": "code",
   "execution_count": null,
   "metadata": {},
   "outputs": [],
   "source": []
  }
 ],
 "metadata": {
  "kernelspec": {
   "display_name": "Python 3",
   "language": "python",
   "name": "python3"
  },
  "language_info": {
   "codemirror_mode": {
    "name": "ipython",
    "version": 3
   },
   "file_extension": ".py",
   "mimetype": "text/x-python",
   "name": "python",
   "nbconvert_exporter": "python",
   "pygments_lexer": "ipython3",
   "version": "3.7.1"
  }
 },
 "nbformat": 4,
 "nbformat_minor": 2
}
