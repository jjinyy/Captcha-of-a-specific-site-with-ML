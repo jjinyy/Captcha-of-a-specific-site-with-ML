{
 "cells": [
  {
   "cell_type": "code",
   "execution_count": 1,
   "metadata": {},
   "outputs": [
    {
     "name": "stdout",
     "output_type": "stream",
     "text": [
      "(100, 28)\n",
      "6 0\n"
     ]
    }
   ],
   "source": [
    "import cv2\n",
    "import numpy as np\n",
    "import glob\n",
    "from PIL import Image\n",
    "\n",
    "def image_crop( infilename , save_path):\n",
    "    \"\"\"\n",
    "    image file 와 crop한이미지를 저장할 path 을 입력받아 crop_img를 저장한다.\n",
    "    :param infilename:\n",
    "        crop할 대상 image file 입력으로 넣는다.\n",
    "    :param save_path:\n",
    "        crop_image file의 저장 경로를 넣는다.\n",
    "    :return:\n",
    "    \"\"\"\n",
    " \n",
    "    img = Image.open( infilename )\n",
    "    img_cut = img.crop((5,4,105,32))\n",
    "    (img_w, img_h) = img_cut.size\n",
    "    print(img_cut.size)\n",
    " \n",
    "    # crop 할 사이즈 : grid_w, grid_h\n",
    "    grid_w = 15 # crop width\n",
    "    grid_h = 30 # crop height\n",
    "    range_w = (int)(img_w/grid_w)\n",
    "    range_h = (int)(img_h/grid_h)\n",
    "    print(range_w, range_h)\n",
    " \n",
    "    i = 0\n",
    "    \n",
    "    for w in range(range_w):\n",
    "        for h in range(range_h):\n",
    "            bbox = (w*grid_w, h*grid_h, (w+1)*(grid_w), (h+1)*(grid_h))\n",
    "            #print(h*grid_h, w*grid_w, (h+1)*(grid_h), (w+1)*(grid_w))\n",
    "            # 가로 세로 시작, 가로 세로 끝\n",
    "            crop_img = img_cut.crop(bbox)\n",
    " \n",
    "            #fname = \"{}.jpg\".format(\"{0:05d}\".format(i))\n",
    "            fname = \"{}.jpg\".format(\"{0:05d}\".format(i+count))\n",
    "            savename = save_path + fname\n",
    "            crop_img.save(savename)\n",
    "            #print('save file ' + savename + '....')\n",
    "            i += 1\n",
    " \n",
    "target_dir = \"C:/Users/KHJ/PycharmProjects/RPA/images_dump/\"\n",
    "files=glob.glob(target_dir + \"1mg_1.jpg\")\n",
    "\n",
    "if __name__ == '__main__':\n",
    "    count = 0\n",
    "    for file in files:\n",
    "        image_crop(file, 'C:/Users/KHJ/PycharmProjects/RPA/crop/')\n",
    "        count+=6\n",
    " "
   ]
  },
  {
   "cell_type": "code",
   "execution_count": null,
   "metadata": {},
   "outputs": [],
   "source": [
    "import cv2 #cv2 임포트\n",
    "\n",
    "\n",
    "def im_trim (img): #함수로 만든다\n",
    "    x = 5; y = 0; #자르고 싶은 지점의 x좌표와 y좌표 지정\n",
    "    w = 105; h = 40; #x로부터 width, y로부터 height를 지정\n",
    "    img_trim = img[y:y+h, x:x+w] #trim한 결과를 img_trim에 담는다\n",
    "    cv2.imwrite('test.jpg',img_trim) #org_trim.jpg 라는 이름으로 저장\n",
    "    return img_trim #필요에 따라 결과물을 리턴\n",
    "\n",
    "org_image = cv2.imread('C:/Users/KHJ/PycharmProjects/RPA/images/1.jpg') #test.jpg 라는 파일을 읽어온다\n",
    "trim_image = im_trim(org_image) #trim_image 변수에 결과물을 넣는다\n"
   ]
  },
  {
   "cell_type": "code",
   "execution_count": null,
   "metadata": {},
   "outputs": [],
   "source": []
  }
 ],
 "metadata": {
  "kernelspec": {
   "display_name": "Python 3",
   "language": "python",
   "name": "python3"
  },
  "language_info": {
   "codemirror_mode": {
    "name": "ipython",
    "version": 3
   },
   "file_extension": ".py",
   "mimetype": "text/x-python",
   "name": "python",
   "nbconvert_exporter": "python",
   "pygments_lexer": "ipython3",
   "version": "3.7.1"
  }
 },
 "nbformat": 4,
 "nbformat_minor": 2
}
