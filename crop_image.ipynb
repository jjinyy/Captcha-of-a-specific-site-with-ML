{
 "cells": [
  {
   "cell_type": "code",
   "execution_count": 20,
   "metadata": {},
   "outputs": [
    {
     "name": "stdout",
     "output_type": "stream",
     "text": [
      "(105, 27)\n",
      "6 0\n",
      "0 0 17 30\n",
      "17 0 34 30\n",
      "34 0 51 30\n",
      "51 0 68 30\n",
      "68 0 85 30\n",
      "85 0 102 30\n"
     ]
    }
   ],
   "source": [
    "import cv2\n",
    "import numpy as np\n",
    "import glob\n",
    "from PIL import Image\n",
    "\n",
    "def image_crop( infilename , save_path):\n",
    "    \"\"\"\n",
    "    image file 와 crop한이미지를 저장할 path 을 입력받아 crop_img를 저장한다.\n",
    "    :param infilename:\n",
    "        crop할 대상 image file 입력으로 넣는다.\n",
    "    :param save_path:\n",
    "        crop_image file의 저장 경로를 넣는다.\n",
    "    :return:\n",
    "    \"\"\"\n",
    " \n",
    "    img = Image.open( infilename )\n",
    "    img_cut = img.crop((5,3,110, 30))\n",
    "    (img_w, img_h) = img_cut.size\n",
    "    print(img_cut.size)\n",
    " \n",
    "    # crop 할 사이즈 : grid_w, grid_h\n",
    "    grid_w = 17# crop width\n",
    "    grid_h = 30 # crop height\n",
    "    range_w = (int)(img_w/grid_w)\n",
    "    range_h = (int)(img_h/grid_h)\n",
    "    print(range_w, range_h)\n",
    " \n",
    "    i = 0\n",
    "    #for h in range(range_h):\n",
    "    for w in range(range_w):\n",
    "        bbox = (w*grid_w, 0, (w+1)*(grid_w), grid_h)\n",
    "        print(w*grid_w, 0, (w+1)*(grid_w), grid_h)\n",
    "        # 가로 세로 시작, 가로 세로 끝\n",
    "        crop_img = img_cut.crop(bbox)\n",
    " \n",
    "        #fname = \"{}.jpg\".format(\"{0:05d}\".format(i))\n",
    "        fname = \"{}.jpg\".format(\"{0:05d}\".format(i+count))\n",
    "        savename = save_path + fname\n",
    "        crop_img.save(savename)\n",
    "        #print('save file ' + savename + '....')\n",
    "        i += 1\n",
    " \n",
    "target_dir = 'C:/Users/KHJ/Desktop/'\n",
    "files=glob.glob(target_dir + '1.jpg')\n",
    "\n",
    "if __name__ == '__main__':\n",
    "    count = 0\n",
    "    for file in files:\n",
    "        image_crop(file, 'images_arrange/')\n",
    "        count+=6\n",
    " "
   ]
  },
  {
   "cell_type": "code",
   "execution_count": 66,
   "metadata": {},
   "outputs": [],
   "source": [
    "import cv2 #cv2 임포트\n",
    "\n",
    "\n",
    "def im_trim (img): #함수로 만든다\n",
    "    x = 5; y = 0; #자르고 싶은 지점의 x좌표와 y좌표 지정\n",
    "    w = 105; h = 40; #x로부터 width, y로부터 height를 지정\n",
    "    img_trim = img[y:y+h, x:x+w] #trim한 결과를 img_trim에 담는다\n",
    "    cv2.imwrite('test.jpg',img_trim) #org_trim.jpg 라는 이름으로 저장\n",
    "    return img_trim #필요에 따라 결과물을 리턴\n",
    "\n",
    "org_image = cv2.imread('C:/Users/KHJ/PycharmProjects/RPA/images/1.jpg') #test.jpg 라는 파일을 읽어온다\n",
    "trim_image = im_trim(org_image) #trim_image 변수에 결과물을 넣는다\n"
   ]
  },
  {
   "cell_type": "code",
   "execution_count": 9,
   "metadata": {},
   "outputs": [
    {
     "name": "stdout",
     "output_type": "stream",
     "text": [
      "(126, 42)\n",
      "1 6\n"
     ]
    },
    {
     "ename": "OSError",
     "evalue": "cannot write mode RGBA as JPEG",
     "output_type": "error",
     "traceback": [
      "\u001b[1;31m---------------------------------------------------------------------------\u001b[0m",
      "\u001b[1;31mKeyError\u001b[0m                                  Traceback (most recent call last)",
      "\u001b[1;32mC:\\ProgramData\\Anaconda3\\lib\\site-packages\\PIL\\JpegImagePlugin.py\u001b[0m in \u001b[0;36m_save\u001b[1;34m(im, fp, filename)\u001b[0m\n\u001b[0;32m    619\u001b[0m     \u001b[1;32mtry\u001b[0m\u001b[1;33m:\u001b[0m\u001b[1;33m\u001b[0m\u001b[1;33m\u001b[0m\u001b[0m\n\u001b[1;32m--> 620\u001b[1;33m         \u001b[0mrawmode\u001b[0m \u001b[1;33m=\u001b[0m \u001b[0mRAWMODE\u001b[0m\u001b[1;33m[\u001b[0m\u001b[0mim\u001b[0m\u001b[1;33m.\u001b[0m\u001b[0mmode\u001b[0m\u001b[1;33m]\u001b[0m\u001b[1;33m\u001b[0m\u001b[1;33m\u001b[0m\u001b[0m\n\u001b[0m\u001b[0;32m    621\u001b[0m     \u001b[1;32mexcept\u001b[0m \u001b[0mKeyError\u001b[0m\u001b[1;33m:\u001b[0m\u001b[1;33m\u001b[0m\u001b[1;33m\u001b[0m\u001b[0m\n",
      "\u001b[1;31mKeyError\u001b[0m: 'RGBA'",
      "\nDuring handling of the above exception, another exception occurred:\n",
      "\u001b[1;31mOSError\u001b[0m                                   Traceback (most recent call last)",
      "\u001b[1;32m<ipython-input-9-e2021565e6c9>\u001b[0m in \u001b[0;36m<module>\u001b[1;34m\u001b[0m\n\u001b[0;32m     47\u001b[0m     \u001b[0mcount\u001b[0m \u001b[1;33m=\u001b[0m \u001b[1;36m0\u001b[0m\u001b[1;33m\u001b[0m\u001b[1;33m\u001b[0m\u001b[0m\n\u001b[0;32m     48\u001b[0m     \u001b[1;32mfor\u001b[0m \u001b[0mfile\u001b[0m \u001b[1;32min\u001b[0m \u001b[0mfiles\u001b[0m\u001b[1;33m:\u001b[0m\u001b[1;33m\u001b[0m\u001b[1;33m\u001b[0m\u001b[0m\n\u001b[1;32m---> 49\u001b[1;33m         \u001b[0mimage_crop\u001b[0m\u001b[1;33m(\u001b[0m\u001b[0mfile\u001b[0m\u001b[1;33m,\u001b[0m \u001b[1;34m'images_arrange/'\u001b[0m\u001b[1;33m)\u001b[0m\u001b[1;33m\u001b[0m\u001b[1;33m\u001b[0m\u001b[0m\n\u001b[0m\u001b[0;32m     50\u001b[0m         \u001b[0mcount\u001b[0m\u001b[1;33m+=\u001b[0m\u001b[1;36m6\u001b[0m\u001b[1;33m\u001b[0m\u001b[1;33m\u001b[0m\u001b[0m\n",
      "\u001b[1;32m<ipython-input-9-e2021565e6c9>\u001b[0m in \u001b[0;36mimage_crop\u001b[1;34m(infilename, save_path)\u001b[0m\n\u001b[0;32m     37\u001b[0m             \u001b[0mfname\u001b[0m \u001b[1;33m=\u001b[0m \u001b[1;34m\"{}.jpg\"\u001b[0m\u001b[1;33m.\u001b[0m\u001b[0mformat\u001b[0m\u001b[1;33m(\u001b[0m\u001b[1;34m\"{0:05d}\"\u001b[0m\u001b[1;33m.\u001b[0m\u001b[0mformat\u001b[0m\u001b[1;33m(\u001b[0m\u001b[0mi\u001b[0m\u001b[1;33m+\u001b[0m\u001b[0mcount\u001b[0m\u001b[1;33m)\u001b[0m\u001b[1;33m)\u001b[0m\u001b[1;33m\u001b[0m\u001b[1;33m\u001b[0m\u001b[0m\n\u001b[0;32m     38\u001b[0m             \u001b[0msavename\u001b[0m \u001b[1;33m=\u001b[0m \u001b[0msave_path\u001b[0m \u001b[1;33m+\u001b[0m \u001b[0mfname\u001b[0m\u001b[1;33m\u001b[0m\u001b[1;33m\u001b[0m\u001b[0m\n\u001b[1;32m---> 39\u001b[1;33m             \u001b[0mcrop_img\u001b[0m\u001b[1;33m.\u001b[0m\u001b[0msave\u001b[0m\u001b[1;33m(\u001b[0m\u001b[0msavename\u001b[0m\u001b[1;33m)\u001b[0m\u001b[1;33m\u001b[0m\u001b[1;33m\u001b[0m\u001b[0m\n\u001b[0m\u001b[0;32m     40\u001b[0m             \u001b[1;31m#print('save file ' + savename + '....')\u001b[0m\u001b[1;33m\u001b[0m\u001b[1;33m\u001b[0m\u001b[1;33m\u001b[0m\u001b[0m\n\u001b[0;32m     41\u001b[0m             \u001b[0mi\u001b[0m \u001b[1;33m+=\u001b[0m \u001b[1;36m1\u001b[0m\u001b[1;33m\u001b[0m\u001b[1;33m\u001b[0m\u001b[0m\n",
      "\u001b[1;32mC:\\ProgramData\\Anaconda3\\lib\\site-packages\\PIL\\Image.py\u001b[0m in \u001b[0;36msave\u001b[1;34m(self, fp, format, **params)\u001b[0m\n\u001b[0;32m   1967\u001b[0m \u001b[1;33m\u001b[0m\u001b[0m\n\u001b[0;32m   1968\u001b[0m         \u001b[1;32mtry\u001b[0m\u001b[1;33m:\u001b[0m\u001b[1;33m\u001b[0m\u001b[1;33m\u001b[0m\u001b[0m\n\u001b[1;32m-> 1969\u001b[1;33m             \u001b[0msave_handler\u001b[0m\u001b[1;33m(\u001b[0m\u001b[0mself\u001b[0m\u001b[1;33m,\u001b[0m \u001b[0mfp\u001b[0m\u001b[1;33m,\u001b[0m \u001b[0mfilename\u001b[0m\u001b[1;33m)\u001b[0m\u001b[1;33m\u001b[0m\u001b[1;33m\u001b[0m\u001b[0m\n\u001b[0m\u001b[0;32m   1970\u001b[0m         \u001b[1;32mfinally\u001b[0m\u001b[1;33m:\u001b[0m\u001b[1;33m\u001b[0m\u001b[1;33m\u001b[0m\u001b[0m\n\u001b[0;32m   1971\u001b[0m             \u001b[1;31m# do what we can to clean up\u001b[0m\u001b[1;33m\u001b[0m\u001b[1;33m\u001b[0m\u001b[1;33m\u001b[0m\u001b[0m\n",
      "\u001b[1;32mC:\\ProgramData\\Anaconda3\\lib\\site-packages\\PIL\\JpegImagePlugin.py\u001b[0m in \u001b[0;36m_save\u001b[1;34m(im, fp, filename)\u001b[0m\n\u001b[0;32m    620\u001b[0m         \u001b[0mrawmode\u001b[0m \u001b[1;33m=\u001b[0m \u001b[0mRAWMODE\u001b[0m\u001b[1;33m[\u001b[0m\u001b[0mim\u001b[0m\u001b[1;33m.\u001b[0m\u001b[0mmode\u001b[0m\u001b[1;33m]\u001b[0m\u001b[1;33m\u001b[0m\u001b[1;33m\u001b[0m\u001b[0m\n\u001b[0;32m    621\u001b[0m     \u001b[1;32mexcept\u001b[0m \u001b[0mKeyError\u001b[0m\u001b[1;33m:\u001b[0m\u001b[1;33m\u001b[0m\u001b[1;33m\u001b[0m\u001b[0m\n\u001b[1;32m--> 622\u001b[1;33m         \u001b[1;32mraise\u001b[0m \u001b[0mIOError\u001b[0m\u001b[1;33m(\u001b[0m\u001b[1;34m\"cannot write mode %s as JPEG\"\u001b[0m \u001b[1;33m%\u001b[0m \u001b[0mim\u001b[0m\u001b[1;33m.\u001b[0m\u001b[0mmode\u001b[0m\u001b[1;33m)\u001b[0m\u001b[1;33m\u001b[0m\u001b[1;33m\u001b[0m\u001b[0m\n\u001b[0m\u001b[0;32m    623\u001b[0m \u001b[1;33m\u001b[0m\u001b[0m\n\u001b[0;32m    624\u001b[0m     \u001b[0minfo\u001b[0m \u001b[1;33m=\u001b[0m \u001b[0mim\u001b[0m\u001b[1;33m.\u001b[0m\u001b[0mencoderinfo\u001b[0m\u001b[1;33m\u001b[0m\u001b[1;33m\u001b[0m\u001b[0m\n",
      "\u001b[1;31mOSError\u001b[0m: cannot write mode RGBA as JPEG"
     ]
    }
   ],
   "source": [
    "import cv2\n",
    "import numpy as np\n",
    "import glob\n",
    "from PIL import Image\n",
    "\n",
    "def image_crop( infilename , save_path):\n",
    "    \"\"\"\n",
    "    image file 와 crop한이미지를 저장할 path 을 입력받아 crop_img를 저장한다.\n",
    "    :param infilename:\n",
    "        crop할 대상 image file 입력으로 넣는다.\n",
    "    :param save_path:\n",
    "        crop_image file의 저장 경로를 넣는다.\n",
    "    :return:\n",
    "    \"\"\"\n",
    " \n",
    "    img = Image.open( infilename )\n",
    "    (img_h, img_w) = img.size\n",
    "    print(img.size)\n",
    " \n",
    "    # crop 할 사이즈 : grid_w, grid_h\n",
    "    grid_w = 42 # crop width\n",
    "    grid_h = 21 # crop height\n",
    "    range_w = (int)(img_w/grid_w)\n",
    "    range_h = (int)(img_h/grid_h)\n",
    "    print(range_w, range_h)\n",
    " \n",
    "    i = 0\n",
    "    \n",
    "    for w in range(range_w):\n",
    "        for h in range(range_h):\n",
    "            bbox = (h*grid_h, w*grid_w, (h+1)*(grid_h), (w+1)*(grid_w))\n",
    "            #print(h*grid_h, w*grid_w, (h+1)*(grid_h), (w+1)*(grid_w))\n",
    "            # 가로 세로 시작, 가로 세로 끝\n",
    "            crop_img = img.crop(bbox)\n",
    " \n",
    "            #fname = \"{}.jpg\".format(\"{0:05d}\".format(i))\n",
    "            fname = \"{}.jpg\".format(\"{0:05d}\".format(i+count))\n",
    "            savename = save_path + fname\n",
    "            crop_img.save(savename)\n",
    "            #print('save file ' + savename + '....')\n",
    "            i += 1\n",
    " \n",
    "target_dir = \"C:/Users/KHJ/PycharmProjects/RPA/images_dump/\"\n",
    "files=glob.glob(target_dir + \"1mg_1.jpg\")\n",
    "\n",
    "if __name__ == '__main__':\n",
    "    count = 0\n",
    "    for file in files:\n",
    "        image_crop(file, 'images_arrange/')\n",
    "        count+=6"
   ]
  },
  {
   "cell_type": "code",
   "execution_count": null,
   "metadata": {},
   "outputs": [],
   "source": []
  }
 ],
 "metadata": {
  "kernelspec": {
   "display_name": "Python 3",
   "language": "python",
   "name": "python3"
  },
  "language_info": {
   "codemirror_mode": {
    "name": "ipython",
    "version": 3
   },
   "file_extension": ".py",
   "mimetype": "text/x-python",
   "name": "python",
   "nbconvert_exporter": "python",
   "pygments_lexer": "ipython3",
   "version": "3.7.1"
  }
 },
 "nbformat": 4,
 "nbformat_minor": 2
}
