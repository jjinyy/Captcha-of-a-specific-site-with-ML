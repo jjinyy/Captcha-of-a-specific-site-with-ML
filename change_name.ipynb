{
 "cells": [
  {
   "cell_type": "code",
   "execution_count": 3,
   "metadata": {},
   "outputs": [],
   "source": [
    "import cv2\n",
    "import numpy as np\n",
    "import glob\n",
    "from PIL import Image\n",
    "\n",
    "target_dir = \"C:/Users/KHJ/PycharmProjects/RPA/images/\"\n",
    "files=glob.glob(target_dir + \"*.png\")\n",
    "\n",
    "if __name__ == '__main__':\n",
    "    i=0\n",
    "    for file in files:\n",
    "        img = Image.open( file )\n",
    "        fname = \"{}.jpg\".format(\"{0:01d}\".format(i))\n",
    "        savename = \"C:/Users/KHJ/Desktop/t/\" + fname\n",
    "        img.save(savename)\n",
    "        i += 1"
   ]
  },
  {
   "cell_type": "code",
   "execution_count": null,
   "metadata": {},
   "outputs": [],
   "source": []
  }
 ],
 "metadata": {
  "kernelspec": {
   "display_name": "Python 3",
   "language": "python",
   "name": "python3"
  },
  "language_info": {
   "codemirror_mode": {
    "name": "ipython",
    "version": 3
   },
   "file_extension": ".py",
   "mimetype": "text/x-python",
   "name": "python",
   "nbconvert_exporter": "python",
   "pygments_lexer": "ipython3",
   "version": "3.7.1"
  }
 },
 "nbformat": 4,
 "nbformat_minor": 2
}
