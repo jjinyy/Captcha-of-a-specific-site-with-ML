{
 "cells": [
  {
   "cell_type": "code",
   "execution_count": 5,
   "metadata": {},
   "outputs": [],
   "source": [
    "#-*- coding: utf-8 -*-\n",
    "import cv2\n",
    "import numpy as np\n",
    "import glob\n",
    "import sys\n",
    "\n",
    "FNAME = 'digits.npz'\n",
    "\n",
    "def machineLearning():\n",
    "    img = cv2.imread('C:/Users/KHJ/PycharmProjects/RPA/test_images/num.png')\n",
    "    gray = cv2.cvtColor(img, cv2.COLOR_BGR2GRAY)\n",
    "\n",
    "    cells = [np.hsplit(row,100) for row in np.vsplit(gray,10)]\n",
    "    x = np.array(cells)\n",
    "    train = x[:,:].reshape(-1,375).astype(np.float32)\n",
    "\n",
    "    k = np.arange(10)\n",
    "    train_labels = np.repeat(k,100)[:,np.newaxis]\n",
    "\n",
    "    np.savez(FNAME,train=train,train_labels = train_labels)\n",
    "\n",
    "\n",
    "if __name__ == '__main__':\n",
    "    machineLearning()\n"
   ]
  },
  {
   "cell_type": "code",
   "execution_count": null,
   "metadata": {},
   "outputs": [],
   "source": []
  }
 ],
 "metadata": {
  "kernelspec": {
   "display_name": "Python 3",
   "language": "python",
   "name": "python3"
  },
  "language_info": {
   "codemirror_mode": {
    "name": "ipython",
    "version": 3
   },
   "file_extension": ".py",
   "mimetype": "text/x-python",
   "name": "python",
   "nbconvert_exporter": "python",
   "pygments_lexer": "ipython3",
   "version": "3.7.1"
  }
 },
 "nbformat": 4,
 "nbformat_minor": 2
}
